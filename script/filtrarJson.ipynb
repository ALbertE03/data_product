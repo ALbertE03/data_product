{
 "cells": [
  {
   "cell_type": "code",
   "execution_count": 14,
   "id": "41217b9f-5813-45ec-bfec-e83ab735c322",
   "metadata": {},
   "outputs": [],
   "source": [
    "import pandas as pd\n",
    "import json\n",
    "df = pd.read_excel(\n",
    "    \"/Users/enrique.marichal/Desktop/Pesca_en-Cuba/src/data/5.3-pib-a-precios-corrientes.xls\"\n",
    ")\n",
    "\n",
    "df.to_json(\"pib_corriente.json\", indent=4)"
   ]
  },
  {
   "cell_type": "code",
   "execution_count": 17,
   "id": "4b99eb4a-5f70-46fd-a2ec-db9ed320c16a",
   "metadata": {},
   "outputs": [],
   "source": [
    "# Cargar el archivo JSON en un DataFrame\n",
    "df = pd.read_json(\"pib_corriente.json\")\n",
    "\n",
    "años= [x for  x in range(2010,2023)]\n",
    "# estas dos lineas funcionan aveces\n",
    "# df = df.dropna()\n",
    "# df.to_json('importacines_sin_nulos.json', orient='index')\n",
    "\n",
    "t=0\n",
    "a={}\n",
    "try:\n",
    "    for i in df:\n",
    "        b=[]\n",
    "        for j in df[i]:\n",
    "            if not pd.isnull(j) and (isinstance(j,int) or isinstance(j,float) ):#or isinstance(j,str)):\n",
    "                b.append(j)\n",
    "\n",
    "        a[años[t]]=b\n",
    "        t+=1\n",
    "except:\n",
    "    print(\"hola\")\n",
    "\n",
    "with open(\"pib_corriente_sin_nulos.json\", \"w\") as file:\n",
    "    json.dump(a, file, indent=4)"
   ]
  },
  {
   "cell_type": "code",
   "execution_count": null,
   "id": "49c2f64d-15cf-4484-ac98-f0e8de72290d",
   "metadata": {},
   "outputs": [],
   "source": []
  }
 ],
 "metadata": {
  "kernelspec": {
   "display_name": "Python 3 (ipykernel)",
   "language": "python",
   "name": "python3"
  },
  "language_info": {
   "codemirror_mode": {
    "name": "ipython",
    "version": 3
   },
   "file_extension": ".py",
   "mimetype": "text/x-python",
   "name": "python",
   "nbconvert_exporter": "python",
   "pygments_lexer": "ipython3",
   "version": "3.11.5"
  }
 },
 "nbformat": 4,
 "nbformat_minor": 5
}
